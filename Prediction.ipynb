{
 "cells": [
  {
   "cell_type": "code",
   "execution_count": 3,
   "metadata": {},
   "outputs": [],
   "source": [
    "import tensorflow as tf\n",
    "import numpy as np\n",
    "from tensorflow.keras.datasets import imdb\n",
    "from tensorflow.keras.preprocessing import sequence \n",
    "from tensorflow.keras.models import Sequential, load_model\n",
    "from tensorflow.keras.layers import Dense, Embedding, SimpleRNN\n"
   ]
  },
  {
   "cell_type": "code",
   "execution_count": 4,
   "metadata": {},
   "outputs": [],
   "source": [
    "word_index = imdb.get_word_index()\n",
    "reverse_word_index = {value: key for key,value in word_index.items()}"
   ]
  },
  {
   "cell_type": "code",
   "execution_count": 6,
   "metadata": {},
   "outputs": [
    {
     "name": "stderr",
     "output_type": "stream",
     "text": [
      "c:\\Users\\HARI LOKESH\\Desktop\\RNN with WordEmbedding\\.venv\\Lib\\site-packages\\keras\\src\\saving\\saving_lib.py:757: UserWarning: Skipping variable loading for optimizer 'rmsprop', because it has 8 variables whereas the saved optimizer has 14 variables. \n",
      "  saveable.load_own_variables(weights_store.get(inner_path))\n"
     ]
    },
    {
     "data": {
      "text/html": [
       "<pre style=\"white-space:pre;overflow-x:auto;line-height:normal;font-family:Menlo,'DejaVu Sans Mono',consolas,'Courier New',monospace\"><span style=\"font-weight: bold\">Model: \"sequential_1\"</span>\n",
       "</pre>\n"
      ],
      "text/plain": [
       "\u001b[1mModel: \"sequential_1\"\u001b[0m\n"
      ]
     },
     "metadata": {},
     "output_type": "display_data"
    },
    {
     "data": {
      "text/html": [
       "<pre style=\"white-space:pre;overflow-x:auto;line-height:normal;font-family:Menlo,'DejaVu Sans Mono',consolas,'Courier New',monospace\">┏━━━━━━━━━━━━━━━━━━━━━━━━━━━━━━━━━┳━━━━━━━━━━━━━━━━━━━━━━━━┳━━━━━━━━━━━━━━━┓\n",
       "┃<span style=\"font-weight: bold\"> Layer (type)                    </span>┃<span style=\"font-weight: bold\"> Output Shape           </span>┃<span style=\"font-weight: bold\">       Param # </span>┃\n",
       "┡━━━━━━━━━━━━━━━━━━━━━━━━━━━━━━━━━╇━━━━━━━━━━━━━━━━━━━━━━━━╇━━━━━━━━━━━━━━━┩\n",
       "│ embedding (<span style=\"color: #0087ff; text-decoration-color: #0087ff\">Embedding</span>)           │ (<span style=\"color: #00d7ff; text-decoration-color: #00d7ff\">None</span>, <span style=\"color: #00af00; text-decoration-color: #00af00\">500</span>, <span style=\"color: #00af00; text-decoration-color: #00af00\">128</span>)       │     <span style=\"color: #00af00; text-decoration-color: #00af00\">1,280,000</span> │\n",
       "├─────────────────────────────────┼────────────────────────┼───────────────┤\n",
       "│ simple_rnn (<span style=\"color: #0087ff; text-decoration-color: #0087ff\">SimpleRNN</span>)          │ (<span style=\"color: #00d7ff; text-decoration-color: #00d7ff\">None</span>, <span style=\"color: #00af00; text-decoration-color: #00af00\">128</span>)            │        <span style=\"color: #00af00; text-decoration-color: #00af00\">32,896</span> │\n",
       "├─────────────────────────────────┼────────────────────────┼───────────────┤\n",
       "│ dense (<span style=\"color: #0087ff; text-decoration-color: #0087ff\">Dense</span>)                   │ (<span style=\"color: #00d7ff; text-decoration-color: #00d7ff\">None</span>, <span style=\"color: #00af00; text-decoration-color: #00af00\">1</span>)              │           <span style=\"color: #00af00; text-decoration-color: #00af00\">129</span> │\n",
       "└─────────────────────────────────┴────────────────────────┴───────────────┘\n",
       "</pre>\n"
      ],
      "text/plain": [
       "┏━━━━━━━━━━━━━━━━━━━━━━━━━━━━━━━━━┳━━━━━━━━━━━━━━━━━━━━━━━━┳━━━━━━━━━━━━━━━┓\n",
       "┃\u001b[1m \u001b[0m\u001b[1mLayer (type)                   \u001b[0m\u001b[1m \u001b[0m┃\u001b[1m \u001b[0m\u001b[1mOutput Shape          \u001b[0m\u001b[1m \u001b[0m┃\u001b[1m \u001b[0m\u001b[1m      Param #\u001b[0m\u001b[1m \u001b[0m┃\n",
       "┡━━━━━━━━━━━━━━━━━━━━━━━━━━━━━━━━━╇━━━━━━━━━━━━━━━━━━━━━━━━╇━━━━━━━━━━━━━━━┩\n",
       "│ embedding (\u001b[38;5;33mEmbedding\u001b[0m)           │ (\u001b[38;5;45mNone\u001b[0m, \u001b[38;5;34m500\u001b[0m, \u001b[38;5;34m128\u001b[0m)       │     \u001b[38;5;34m1,280,000\u001b[0m │\n",
       "├─────────────────────────────────┼────────────────────────┼───────────────┤\n",
       "│ simple_rnn (\u001b[38;5;33mSimpleRNN\u001b[0m)          │ (\u001b[38;5;45mNone\u001b[0m, \u001b[38;5;34m128\u001b[0m)            │        \u001b[38;5;34m32,896\u001b[0m │\n",
       "├─────────────────────────────────┼────────────────────────┼───────────────┤\n",
       "│ dense (\u001b[38;5;33mDense\u001b[0m)                   │ (\u001b[38;5;45mNone\u001b[0m, \u001b[38;5;34m1\u001b[0m)              │           \u001b[38;5;34m129\u001b[0m │\n",
       "└─────────────────────────────────┴────────────────────────┴───────────────┘\n"
      ]
     },
     "metadata": {},
     "output_type": "display_data"
    },
    {
     "data": {
      "text/html": [
       "<pre style=\"white-space:pre;overflow-x:auto;line-height:normal;font-family:Menlo,'DejaVu Sans Mono',consolas,'Courier New',monospace\"><span style=\"font-weight: bold\"> Total params: </span><span style=\"color: #00af00; text-decoration-color: #00af00\">2,626,052</span> (10.02 MB)\n",
       "</pre>\n"
      ],
      "text/plain": [
       "\u001b[1m Total params: \u001b[0m\u001b[38;5;34m2,626,052\u001b[0m (10.02 MB)\n"
      ]
     },
     "metadata": {},
     "output_type": "display_data"
    },
    {
     "data": {
      "text/html": [
       "<pre style=\"white-space:pre;overflow-x:auto;line-height:normal;font-family:Menlo,'DejaVu Sans Mono',consolas,'Courier New',monospace\"><span style=\"font-weight: bold\"> Trainable params: </span><span style=\"color: #00af00; text-decoration-color: #00af00\">1,313,025</span> (5.01 MB)\n",
       "</pre>\n"
      ],
      "text/plain": [
       "\u001b[1m Trainable params: \u001b[0m\u001b[38;5;34m1,313,025\u001b[0m (5.01 MB)\n"
      ]
     },
     "metadata": {},
     "output_type": "display_data"
    },
    {
     "data": {
      "text/html": [
       "<pre style=\"white-space:pre;overflow-x:auto;line-height:normal;font-family:Menlo,'DejaVu Sans Mono',consolas,'Courier New',monospace\"><span style=\"font-weight: bold\"> Non-trainable params: </span><span style=\"color: #00af00; text-decoration-color: #00af00\">0</span> (0.00 B)\n",
       "</pre>\n"
      ],
      "text/plain": [
       "\u001b[1m Non-trainable params: \u001b[0m\u001b[38;5;34m0\u001b[0m (0.00 B)\n"
      ]
     },
     "metadata": {},
     "output_type": "display_data"
    },
    {
     "data": {
      "text/html": [
       "<pre style=\"white-space:pre;overflow-x:auto;line-height:normal;font-family:Menlo,'DejaVu Sans Mono',consolas,'Courier New',monospace\"><span style=\"font-weight: bold\"> Optimizer params: </span><span style=\"color: #00af00; text-decoration-color: #00af00\">1,313,027</span> (5.01 MB)\n",
       "</pre>\n"
      ],
      "text/plain": [
       "\u001b[1m Optimizer params: \u001b[0m\u001b[38;5;34m1,313,027\u001b[0m (5.01 MB)\n"
      ]
     },
     "metadata": {},
     "output_type": "display_data"
    }
   ],
   "source": [
    "model = load_model('simple_rnn_imdb.keras')\n",
    "model.summary()"
   ]
  },
  {
   "cell_type": "code",
   "execution_count": 7,
   "metadata": {},
   "outputs": [
    {
     "data": {
      "text/plain": [
       "[array([[-0.75567436, -0.9042952 , -2.2116866 , ..., -0.14495988,\n",
       "         -0.39528865, -0.47323412],\n",
       "        [-0.10173965, -0.13332212, -0.09253766, ..., -0.15431945,\n",
       "         -0.14173055, -0.16462219],\n",
       "        [ 0.0732575 , -0.06319973,  0.10899895, ...,  0.04303933,\n",
       "         -0.15244868,  0.09990705],\n",
       "        ...,\n",
       "        [ 0.06976661,  0.03870867, -0.06435334, ..., -0.0080263 ,\n",
       "         -0.01498985, -0.0483941 ],\n",
       "        [ 0.010746  , -0.05142908,  0.0946438 , ..., -0.03118951,\n",
       "         -0.01377358, -0.09276213],\n",
       "        [ 0.0152601 ,  0.0147903 ,  0.1052072 , ..., -0.0884493 ,\n",
       "         -0.00473262,  0.02409862]], dtype=float32),\n",
       " array([[-0.01545712,  0.08905559,  0.009875  , ...,  0.04828349,\n",
       "          0.06142245, -0.20474812],\n",
       "        [-0.01456627, -0.02787714,  0.07927585, ..., -0.10070093,\n",
       "         -0.00792795,  0.05799161],\n",
       "        [ 0.02328871,  0.11466707,  0.2551861 , ...,  0.02658092,\n",
       "          0.15962884, -0.00648382],\n",
       "        ...,\n",
       "        [ 0.00400757,  0.16552994, -0.21070787, ..., -0.00205547,\n",
       "         -0.08084454,  0.00422141],\n",
       "        [-0.19726378,  0.08638482,  0.26478377, ...,  0.09868748,\n",
       "          0.002888  , -0.00807127],\n",
       "        [ 0.18872139,  0.02634697, -0.26548058, ...,  0.02685877,\n",
       "         -0.15352462,  0.17970231]], dtype=float32),\n",
       " array([[ 0.09702444,  0.01659623, -0.13212605, ..., -0.15630242,\n",
       "         -0.06471803,  0.01749657],\n",
       "        [-0.13836253,  0.07155622, -0.13374816, ...,  0.19960986,\n",
       "         -0.02835079,  0.17122798],\n",
       "        [ 0.04810596, -0.11932214,  0.02164062, ..., -0.1406949 ,\n",
       "          0.04948023,  0.12346805],\n",
       "        ...,\n",
       "        [ 0.08365336,  0.02189501, -0.11032023, ..., -0.14883517,\n",
       "         -0.02662654,  0.11450612],\n",
       "        [-0.11471394, -0.13942103, -0.01462167, ..., -0.17238772,\n",
       "         -0.22398384, -0.11121607],\n",
       "        [-0.23723835,  0.06836037,  0.04878349, ...,  0.03789132,\n",
       "         -0.10519817,  0.07806677]], dtype=float32),\n",
       " array([ 0.02958626, -0.06839832,  0.05140378, -0.04298469,  0.02426519,\n",
       "         0.0190221 , -0.06245456,  0.04712774,  0.02787142, -0.00935707,\n",
       "        -0.01100162, -0.03267565, -0.07481892, -0.1129146 , -0.09205152,\n",
       "         0.02085697, -0.11481837,  0.00197494, -0.01953861, -0.00141346,\n",
       "         0.03007825, -0.09711511, -0.01971325, -0.06573387, -0.05406074,\n",
       "        -0.09301289, -0.02998736, -0.06855154, -0.03619267,  0.06665982,\n",
       "        -0.00259505,  0.06002263, -0.06060001, -0.00514914, -0.07943171,\n",
       "         0.05298884, -0.04244456,  0.0052378 , -0.10769311,  0.05641047,\n",
       "        -0.05398383,  0.02437023, -0.00127232, -0.02738911,  0.01787426,\n",
       "         0.04408056,  0.04722069, -0.03905948,  0.07286607,  0.01838291,\n",
       "        -0.10718807,  0.00898248, -0.07327915, -0.02129125, -0.0352552 ,\n",
       "         0.04228124,  0.00632422, -0.04440932, -0.04044314,  0.02163634,\n",
       "         0.01353592,  0.02771735, -0.07247933, -0.06854752,  0.05413341,\n",
       "        -0.11285855, -0.00659742, -0.07314553, -0.03462277, -0.04599116,\n",
       "         0.03409248, -0.13531105, -0.00769587, -0.04432702, -0.09455983,\n",
       "         0.00324932,  0.00946169,  0.04453274, -0.11024144,  0.00527098,\n",
       "         0.03782944,  0.04887885, -0.02004993,  0.00490513, -0.04245707,\n",
       "        -0.05201601, -0.01938331, -0.02297162, -0.08002023, -0.03083606,\n",
       "        -0.00967719, -0.04391808,  0.06688313, -0.02913714, -0.02465227,\n",
       "        -0.11888547,  0.00041771, -0.01201775, -0.01600643, -0.02544335,\n",
       "         0.02594845,  0.0308841 , -0.09697828, -0.04498214, -0.04246009,\n",
       "         0.03027378, -0.04307762, -0.07462912, -0.01750505, -0.00407316,\n",
       "         0.02770704,  0.00546991,  0.0101743 ,  0.04340386,  0.01435289,\n",
       "        -0.04497468, -0.01900542, -0.04361695, -0.10530991,  0.01946461,\n",
       "        -0.064844  , -0.00352499,  0.10554359, -0.04290984,  0.03021069,\n",
       "        -0.01769766, -0.03829318,  0.02378475], dtype=float32),\n",
       " array([[-0.03730259],\n",
       "        [-0.29367033],\n",
       "        [ 0.22223207],\n",
       "        [ 0.04438844],\n",
       "        [ 0.02403401],\n",
       "        [ 0.01989441],\n",
       "        [ 0.01502551],\n",
       "        [-0.05713614],\n",
       "        [ 0.09482092],\n",
       "        [-0.00818822],\n",
       "        [-0.07082961],\n",
       "        [ 0.3528537 ],\n",
       "        [-0.09420992],\n",
       "        [-0.18885538],\n",
       "        [ 0.10084356],\n",
       "        [ 0.20317587],\n",
       "        [-0.02194908],\n",
       "        [-0.30139515],\n",
       "        [-0.27400014],\n",
       "        [-0.07943904],\n",
       "        [-0.2659179 ],\n",
       "        [-0.16364181],\n",
       "        [-0.12012854],\n",
       "        [-0.3442083 ],\n",
       "        [-0.06118776],\n",
       "        [ 0.18369198],\n",
       "        [-0.1939099 ],\n",
       "        [ 0.18466419],\n",
       "        [-0.32115   ],\n",
       "        [ 0.09583887],\n",
       "        [ 0.05791913],\n",
       "        [ 0.59435487],\n",
       "        [ 0.1676239 ],\n",
       "        [ 0.05332056],\n",
       "        [ 0.17795901],\n",
       "        [ 0.3496535 ],\n",
       "        [-0.00530633],\n",
       "        [ 0.02051185],\n",
       "        [-0.08585481],\n",
       "        [-0.10994137],\n",
       "        [-0.14814231],\n",
       "        [ 0.09762636],\n",
       "        [ 0.12671012],\n",
       "        [-0.0070249 ],\n",
       "        [-0.10654074],\n",
       "        [ 0.1039606 ],\n",
       "        [ 0.10780844],\n",
       "        [-0.26977578],\n",
       "        [ 0.07855017],\n",
       "        [-0.27815598],\n",
       "        [-0.5012926 ],\n",
       "        [-0.07722402],\n",
       "        [-0.17951022],\n",
       "        [ 0.1848504 ],\n",
       "        [ 0.05301449],\n",
       "        [ 0.23837513],\n",
       "        [ 0.2461188 ],\n",
       "        [-0.24547313],\n",
       "        [ 0.03198437],\n",
       "        [ 0.17247295],\n",
       "        [-0.10943558],\n",
       "        [-0.2827163 ],\n",
       "        [ 0.00582271],\n",
       "        [ 0.08188789],\n",
       "        [-0.549013  ],\n",
       "        [-0.03619239],\n",
       "        [ 0.4902161 ],\n",
       "        [ 0.240881  ],\n",
       "        [-0.27608448],\n",
       "        [ 0.03455741],\n",
       "        [ 0.04843551],\n",
       "        [-0.2371072 ],\n",
       "        [-0.19447394],\n",
       "        [-0.07775723],\n",
       "        [ 0.17746848],\n",
       "        [-0.38584965],\n",
       "        [ 0.1424099 ],\n",
       "        [ 0.12755759],\n",
       "        [-0.10072548],\n",
       "        [ 0.0046926 ],\n",
       "        [-0.3065856 ],\n",
       "        [ 0.05797464],\n",
       "        [-0.2909999 ],\n",
       "        [ 0.68078613],\n",
       "        [-0.12037826],\n",
       "        [ 0.13150172],\n",
       "        [-0.01042017],\n",
       "        [-0.42966032],\n",
       "        [-0.16474152],\n",
       "        [ 0.0590052 ],\n",
       "        [ 0.02376054],\n",
       "        [ 0.22336358],\n",
       "        [ 0.23190387],\n",
       "        [-0.06286275],\n",
       "        [ 0.79841214],\n",
       "        [-0.1076145 ],\n",
       "        [-0.18315026],\n",
       "        [-0.36464387],\n",
       "        [ 0.24201031],\n",
       "        [ 0.1320625 ],\n",
       "        [ 0.08900639],\n",
       "        [-0.08234464],\n",
       "        [-0.17912455],\n",
       "        [-0.52469856],\n",
       "        [ 0.02330202],\n",
       "        [ 0.36252826],\n",
       "        [ 0.00415868],\n",
       "        [ 0.14127257],\n",
       "        [-0.26314116],\n",
       "        [ 0.05745161],\n",
       "        [-0.191704  ],\n",
       "        [-0.14196412],\n",
       "        [ 0.19930337],\n",
       "        [-0.22451846],\n",
       "        [-0.23932886],\n",
       "        [ 0.10824766],\n",
       "        [-0.09337386],\n",
       "        [ 0.00608459],\n",
       "        [ 0.25874576],\n",
       "        [ 0.09176977],\n",
       "        [-0.00331358],\n",
       "        [ 0.7532938 ],\n",
       "        [-0.06056545],\n",
       "        [-0.11100851],\n",
       "        [ 0.05390331],\n",
       "        [-0.1628526 ],\n",
       "        [ 0.12171158],\n",
       "        [ 0.05732785]], dtype=float32),\n",
       " array([0.516867], dtype=float32)]"
      ]
     },
     "execution_count": 7,
     "metadata": {},
     "output_type": "execute_result"
    }
   ],
   "source": [
    "model.get_weights()"
   ]
  },
  {
   "cell_type": "code",
   "execution_count": 8,
   "metadata": {},
   "outputs": [],
   "source": [
    "def Decoding_review(encoded_review):\n",
    "    return ' '.join([reverse_word_index.get(i-3,'?') for i in encoded_review ])\n",
    "\n",
    "def pre_processing(text):\n",
    "    words = text.lower().split()\n",
    "    encoded_review = [word_index.get(word,2)+3 for word in words]\n",
    "    padded_review = sequence.pad_sequences([encoded_review], maxlen=500)\n",
    "    return padded_review"
   ]
  },
  {
   "cell_type": "code",
   "execution_count": 9,
   "metadata": {},
   "outputs": [],
   "source": [
    "def predict_sentiment(review):\n",
    "    preprocessed_input = pre_processing(review)\n",
    "    prediction = model.predict(preprocessed_input)\n",
    "    sentiment = 'Positive' if prediction[0][0] > 0.5 else 'Negative'\n",
    "    return sentiment, prediction[0][0]\n"
   ]
  },
  {
   "cell_type": "code",
   "execution_count": 17,
   "metadata": {},
   "outputs": [
    {
     "name": "stdout",
     "output_type": "stream",
     "text": [
      "\u001b[1m1/1\u001b[0m \u001b[32m━━━━━━━━━━━━━━━━━━━━\u001b[0m\u001b[37m\u001b[0m \u001b[1m0s\u001b[0m 57ms/step\n",
      "Review:  This movie was fantastic! The acting was great and the plot was thriling\n",
      "Sentiment:  Positive\n",
      "Pred score:  0.98643833\n"
     ]
    }
   ],
   "source": [
    "example_review = \"This movie was fantastic! The acting was great and the plot was thriling\"\n",
    "sentiment, score = predict_sentiment(example_review)\n",
    "print('Review: ', example_review)\n",
    "print('Sentiment: ', sentiment)\n",
    "print('Pred score: ', score)"
   ]
  },
  {
   "cell_type": "code",
   "execution_count": null,
   "metadata": {},
   "outputs": [],
   "source": []
  }
 ],
 "metadata": {
  "kernelspec": {
   "display_name": ".venv",
   "language": "python",
   "name": "python3"
  },
  "language_info": {
   "codemirror_mode": {
    "name": "ipython",
    "version": 3
   },
   "file_extension": ".py",
   "mimetype": "text/x-python",
   "name": "python",
   "nbconvert_exporter": "python",
   "pygments_lexer": "ipython3",
   "version": "3.12.9"
  }
 },
 "nbformat": 4,
 "nbformat_minor": 2
}
